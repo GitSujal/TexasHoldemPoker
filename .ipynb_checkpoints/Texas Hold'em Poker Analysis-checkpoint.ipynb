{
 "cells": [
  {
   "cell_type": "markdown",
   "metadata": {},
   "source": [
    "# Texas Hold'em Poker Analysis\n",
    "\n",
    "This python program Provided a list of players and two cards served to them is in a csv file (players.csv) and first three community cards, the program should find the next two cards for the community to make a selected player the winner. Number of players can be from 2 to 10.\n",
    "\n",
    "This analysis is mostly based around the win conditions. \n",
    "- How often is the win condition feasible? \n",
    "- Are there any conditions when the designated palyer can't win? \n",
    "- How many iterations do we need to find the set of cards that secure the win?"
   ]
  },
  {
   "cell_type": "code",
   "execution_count": 1,
   "metadata": {},
   "outputs": [],
   "source": [
    "# Necessary Imports\n",
    "import matplotlib.pyplot as plt\n",
    "from main import make_the_winner"
   ]
  },
  {
   "cell_type": "code",
   "execution_count": 4,
   "metadata": {},
   "outputs": [
    {
     "name": "stdout",
     "output_type": "stream",
     "text": [
      "\n",
      "\n",
      "It took 67 iterations to find the required cards \n",
      "Winner: utur\n",
      "Cards:\n",
      "All Community cards: \t [2S, 9C, 4C] (8H, JS)\n",
      "____________________________________________________________________________________________________\n",
      "Player    |Card in Hand        |Hands                         |Hand Type           |Hand Ranking\n",
      "____________________________________________________________________________________________________\n",
      "John      |[2H, 8C]            |[2S, 2H, 8H, 8C, JS]          |Two Pair            |       331\n",
      "David     |[kS, qS]            |[8H, 9C, JS, qS, kS]          |High Card           |       153\n",
      "Siva      |[aC, 7D]            |[7D, 8H, 9C, JS, aC]          |High Card           |       149\n",
      "Sujal     |[9H, kD]            |[8H, 9C, 9H, JS, kD]          |Pair                |       250\n",
      "Random    |[5S, 3D]            |[3D, 5S, 8H, 9C, JS]          |High Card           |       136\n",
      "utur      |[9D, 8S]            |[8H, 8S, 9C, 9D, JS]          |Two Pair            |       345\n",
      "hoff      |[kC, qC]            |[8H, 9C, JS, qC, kC]          |High Card           |       153\n",
      "____________________________________________________________________________________________________\n",
      "Required Cards: (8H, JS)\n",
      "\n",
      "\n"
     ]
    }
   ],
   "source": [
    "_,iteration,success = make_the_winner('players.csv', ['S2', 'C9', 'C4'], 'utur',debug=True,quiet=False)"
   ]
  },
  {
   "cell_type": "code",
   "execution_count": 5,
   "metadata": {},
   "outputs": [],
   "source": [
    "# generate random test_player.csv file\n",
    "import random\n",
    "\n",
    "def generate_random_input():\n",
    "    card_deck = [suit+rank for suit in ['C','D','H','S'] for rank in ['A','2','3','4','5','6','7','8','9','10','J','Q','K']]\n",
    "\n",
    "    players_dict = {}\n",
    "    for i in range(1,random.randint(2,10)+1):\n",
    "        player_name = \"player_\"+str(i)\n",
    "        player_cards = random.sample(card_deck,k=2)\n",
    "        card_deck.remove(player_cards[0])\n",
    "        card_deck.remove(player_cards[1])\n",
    "        players_dict[player_name] = player_cards\n",
    "\n",
    "    \n",
    "    community_cards = random.sample(card_deck,k=3)\n",
    "    \n",
    "    outfile = \"test_player.csv\"\n",
    "    \n",
    "    with open(outfile,'w') as fp:\n",
    "        fp.write(\"Player,Card1,Card2\\n\")\n",
    "        for player in players_dict:\n",
    "            card_str = \",\".join(players_dict[player])\n",
    "            fp.write(f'{player},{card_str}\\n')\n",
    "    \n",
    "    random_winner = random.choice(list(players_dict.keys()))\n",
    "    \n",
    "    return outfile,community_cards,random_winner\n"
   ]
  },
  {
   "cell_type": "code",
   "execution_count": 8,
   "metadata": {},
   "outputs": [],
   "source": [
    "MAX_ITERATION = 2500\n",
    "def run_experiment():\n",
    "    outfile,community_cards,random_winner = generate_random_input()\n",
    "    cards,iteration,success = make_the_winner(outfile, community_cards, random_winner,\\\n",
    "                                      debug=True,quiet=True,max_iteration=MAX_ITERATION)\n",
    "    return iteration,success"
   ]
  },
  {
   "cell_type": "code",
   "execution_count": 9,
   "metadata": {},
   "outputs": [
    {
     "name": "stdout",
     "output_type": "stream",
     "text": [
      "Iteration number:  0\n",
      "Iteration number:  20\n",
      "Iteration number:  40\n",
      "Iteration number:  60\n",
      "Iteration number:  80\n",
      "[6, 20, 2, 97, 62, 1, 22, 1, 1, 1, 9, 23, 58, 15, 1, 240, 129, 3, 97, 72, 45, 96, 417, 49, 37, 83, 27, 74, 1, 6, 352, 425, 235, 406, 1, 1, 1, 2, 315, 29, 96, 329, 317, 106, 4, 15, 1, 31, 45, 1, 1, 28, 20, 1, 2, 1, 406, 1, 132, 23, 406, 4, 320, 222, 330, 4, 6, 22, 49, 406, 2, 7, 28, 121, 1, 301, 406, 1, 102, 1, 1, 4, 125, 1, 1, 5, 10, 8, 22, 82, 1, 1, 5, 16, 217, 6, 1, 67, 465, 46]\n"
     ]
    }
   ],
   "source": [
    "iteration_list = []\n",
    "success_list = []\n",
    "num_iteration = 100\n",
    "for i in range(num_iteration):\n",
    "    if i%20==0:\n",
    "        print(\"Iteration number: \",i)\n",
    "    iteration,success = run_experiment()\n",
    "    iteration_list.append(iteration)\n",
    "    success_list.append(success)\n",
    "print(iteration_list)"
   ]
  },
  {
   "cell_type": "code",
   "execution_count": 10,
   "metadata": {},
   "outputs": [
    {
     "data": {
      "text/plain": [
       "(array([62.,  9., 10.,  0.,  2.,  2.,  4.,  3.,  6.,  2.]),\n",
       " array([  1. ,  47.4,  93.8, 140.2, 186.6, 233. , 279.4, 325.8, 372.2,\n",
       "        418.6, 465. ]),\n",
       " <a list of 10 Patch objects>)"
      ]
     },
     "execution_count": 10,
     "metadata": {},
     "output_type": "execute_result"
    },
    {
     "data": {
      "image/png": "[encoded data removed]",
      "text/plain": [
       "<Figure size 432x288 with 1 Axes>"
      ]
     },
     "metadata": {
      "needs_background": "light"
     },
     "output_type": "display_data"
    }
   ],
   "source": [
    "plt.hist(iteration_list)"
   ]
  },
  {
   "cell_type": "code",
   "execution_count": 11,
   "metadata": {},
   "outputs": [
    {
     "data": {
      "image/png": "[encoded data removed]",
      "text/plain": [
       "<Figure size 432x288 with 1 Axes>"
      ]
     },
     "metadata": {
      "needs_background": "light"
     },
     "output_type": "display_data"
    }
   ],
   "source": [
    "plt.hist(iteration_list,bins=100)\n",
    "plt.show()"
   ]
  },
  {
   "cell_type": "code",
   "execution_count": 14,
   "metadata": {},
   "outputs": [
    {
     "name": "stdout",
     "output_type": "stream",
     "text": [
      "The experiment failed 6 out of 100 Success Rate: 94.00%\n"
     ]
    }
   ],
   "source": [
    "failed_exps =  num_iteration - sum(success_list)\n",
    "print(f\"The experiment failed {failed_exps} out of {num_iteration} Success Rate: {(1-(failed_exps/num_iteration))*100:.2f}%\")"
   ]
  },
  {
   "cell_type": "code",
   "execution_count": 15,
   "metadata": {},
   "outputs": [
    {
     "data": {
      "text/plain": [
       "465"
      ]
     },
     "execution_count": 15,
     "metadata": {},
     "output_type": "execute_result"
    }
   ],
   "source": [
    "max(iteration_list)"
   ]
  },
  {
   "cell_type": "code",
   "execution_count": null,
   "metadata": {},
   "outputs": [],
   "source": []
  }
 ],
 "metadata": {
  "kernelspec": {
   "display_name": "Python 3",
   "language": "python",
   "name": "python3"
  },
  "language_info": {
   "codemirror_mode": {
    "name": "ipython",
    "version": 3
   },
   "file_extension": ".py",
   "mimetype": "text/x-python",
   "name": "python",
   "nbconvert_exporter": "python",
   "pygments_lexer": "ipython3",
   "version": "3.7.5"
  }
 },
 "nbformat": 4,
 "nbformat_minor": 2
}
