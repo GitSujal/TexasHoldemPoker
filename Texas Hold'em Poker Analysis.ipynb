{
 "cells": [
  {
   "cell_type": "markdown",
   "metadata": {},
   "source": [
    "# Texas Hold'em Poker Analysis\n",
    "\n",
    "This python program Provided a list of players and two cards served to them is in a csv file (players.csv) and first three community cards, the program should find the next two cards for the community to make a selected player the winner. Number of players can be from 2 to 10.\n",
    "\n",
    "This analysis is mostly based around the win conditions. \n",
    "- How often is the win condition feasible? \n",
    "- Are there any conditions when the designated palyer can't win? \n",
    "- How many iterations do we need to find the set of cards that secure the win?"
   ]
  },
  {
   "cell_type": "code",
   "execution_count": 1,
   "metadata": {},
   "outputs": [],
   "source": [
    "# Necessary Imports\n",
    "import matplotlib.pyplot as plt\n",
    "from main import make_the_winner"
   ]
  },
  {
   "cell_type": "markdown",
   "metadata": {},
   "source": [
    "## Testing one Case"
   ]
  },
  {
   "cell_type": "code",
   "execution_count": 2,
   "metadata": {},
   "outputs": [
    {
     "name": "stdout",
     "output_type": "stream",
     "text": [
      "\n",
      "\n",
      "It took 67 iterations to find the required cards \n",
      "Winner: utur\n",
      "Cards:\n",
      "All Community cards: \t [2S, 9C, 4C] (8H, JS)\n",
      "____________________________________________________________________________________________________\n",
      "Player    |Card in Hand        |Hands                         |Hand Type           |Hand Ranking\n",
      "____________________________________________________________________________________________________\n",
      "John      |[2H, 8C]            |[2S, 2H, 8H, 8C, JS]          |Two Pair            |       331\n",
      "David     |[kS, qS]            |[8H, 9C, JS, qS, kS]          |High Card           |       153\n",
      "Siva      |[aC, 7D]            |[7D, 8H, 9C, JS, aC]          |High Card           |       149\n",
      "Sujal     |[9H, kD]            |[8H, 9C, 9H, JS, kD]          |Pair                |       250\n",
      "Random    |[5S, 3D]            |[3D, 5S, 8H, 9C, JS]          |High Card           |       136\n",
      "utur      |[9D, 8S]            |[8H, 8S, 9C, 9D, JS]          |Two Pair            |       345\n",
      "hoff      |[kC, qC]            |[8H, 9C, JS, qC, kC]          |High Card           |       153\n",
      "____________________________________________________________________________________________________\n",
      "Required Cards: (8H, JS)\n",
      "\n",
      "\n"
     ]
    }
   ],
   "source": [
    "_,iteration,success = make_the_winner('players.csv', ['S2', 'C9', 'C4'], 'utur',debug=True,quiet=False)"
   ]
  },
  {
   "cell_type": "markdown",
   "metadata": {},
   "source": [
    "## Function to generate some Test Cases\n",
    "This function generates a csv file with player names and their respective hands\n",
    "It also generates 3 community cards\n",
    "It picks up one winner at random"
   ]
  },
  {
   "cell_type": "code",
   "execution_count": 3,
   "metadata": {},
   "outputs": [],
   "source": [
    "# generate random test_player.csv file\n",
    "import random\n",
    "\n",
    "def generate_random_input():\n",
    "    card_deck = [suit+rank for suit in ['C','D','H','S'] for rank in ['A','2','3','4','5','6','7','8','9','10','J','Q','K']]\n",
    "\n",
    "    players_dict = {}\n",
    "    for i in range(1,random.randint(2,10)+1):\n",
    "        player_name = \"player_\"+str(i)\n",
    "        player_cards = random.sample(card_deck,k=2)\n",
    "        card_deck.remove(player_cards[0])\n",
    "        card_deck.remove(player_cards[1])\n",
    "        players_dict[player_name] = player_cards\n",
    "\n",
    "    \n",
    "    community_cards = random.sample(card_deck,k=3)\n",
    "    \n",
    "    outfile = \"test_player.csv\"\n",
    "    \n",
    "    with open(outfile,'w') as fp:\n",
    "        fp.write(\"Player,Card1,Card2\\n\")\n",
    "        for player in players_dict:\n",
    "            card_str = \",\".join(players_dict[player])\n",
    "            fp.write(f'{player},{card_str}\\n')\n",
    "    \n",
    "    random_winner = random.choice(list(players_dict.keys()))\n",
    "    \n",
    "    return outfile,community_cards,random_winner\n"
   ]
  },
  {
   "cell_type": "markdown",
   "metadata": {},
   "source": [
    "# Function to run the experiment\n",
    "\n",
    "The experiment can be run in two ways.\n",
    "    \n",
    "    Setting the MAX_ITERATION to too low will result in quicker termination of non-win cases but the search isn't exhaustive and it can miss out some win cases.\n",
    "\n",
    "    Setting out the MAX_ITERATION to too high will result in an exhaustive search and the search will be performed on every possible two card combination from the deck. The search will be complete if all sample space has been searched. i.e. if the MAX_ITERATION is set to 2500 but the sample space is 23*22=506 the search will complete at 506 and failure result will be returned\n"
   ]
  },
  {
   "cell_type": "code",
   "execution_count": 4,
   "metadata": {},
   "outputs": [],
   "source": [
    "MAX_ITERATION = 2500\n",
    "def run_experiment():\n",
    "    outfile,community_cards,random_winner = generate_random_input()\n",
    "    cards,iteration,success = make_the_winner(outfile, community_cards, random_winner,\\\n",
    "                                      debug=True,quiet=True,max_iteration=MAX_ITERATION)\n",
    "    return iteration,success"
   ]
  },
  {
   "cell_type": "markdown",
   "metadata": {},
   "source": [
    "## Code to run the experiment num_iteration times and collect result"
   ]
  },
  {
   "cell_type": "code",
   "execution_count": 9,
   "metadata": {},
   "outputs": [
    {
     "name": "stdout",
     "output_type": "stream",
     "text": [
      "Iteration number:  0\n",
      "Iteration number:  20\n",
      "Iteration number:  40\n",
      "Iteration number:  60\n",
      "Iteration number:  80\n",
      "Iteration number:  100\n",
      "Iteration number:  120\n",
      "Iteration number:  140\n",
      "Iteration number:  160\n",
      "Iteration number:  180\n",
      "Iteration number:  200\n",
      "Iteration number:  220\n",
      "Iteration number:  240\n",
      "Iteration number:  260\n",
      "Iteration number:  280\n",
      "Iteration number:  300\n",
      "Iteration number:  320\n",
      "Iteration number:  340\n",
      "Iteration number:  360\n",
      "Iteration number:  380\n",
      "Iteration number:  400\n",
      "Iteration number:  420\n",
      "Iteration number:  440\n",
      "Iteration number:  460\n",
      "Iteration number:  480\n",
      "Iteration number:  500\n",
      "Iteration number:  520\n",
      "Iteration number:  540\n",
      "Iteration number:  560\n",
      "Iteration number:  580\n",
      "Iteration number:  600\n",
      "Iteration number:  620\n",
      "Iteration number:  640\n",
      "Iteration number:  660\n",
      "Iteration number:  680\n",
      "Iteration number:  700\n",
      "Iteration number:  720\n",
      "Iteration number:  740\n",
      "Iteration number:  760\n",
      "Iteration number:  780\n",
      "Iteration number:  800\n",
      "Iteration number:  820\n",
      "Iteration number:  840\n",
      "Iteration number:  860\n",
      "Iteration number:  880\n",
      "Iteration number:  900\n",
      "Iteration number:  920\n",
      "Iteration number:  940\n",
      "Iteration number:  960\n",
      "Iteration number:  980\n",
      "[1, 123, 1, 1, 20, 4, 1, 9, 27, 2, 218, 1, 48, 1, 1, 171, 29, 54, 200, 272, 1, 4, 1, 22, 201, 1, 15, 528, 28, 1, 84, 44, 47, 1, 52, 2, 37, 1, 1, 12, 17, 4, 128, 1, 33, 367, 4, 16, 3, 106, 7, 28, 406, 45, 6, 1, 147, 1, 37, 1, 203, 2, 1, 3, 2, 46, 98, 37, 1, 45, 14, 1, 1, 406, 31, 18, 465, 1, 1, 1, 465, 29, 6, 465, 22, 528, 3, 112, 29, 6, 1, 83, 1, 39, 211, 1, 277, 2, 12, 1, 10, 1, 6, 29, 59, 191, 106, 29, 268, 98, 141, 820, 741, 22, 22, 354, 1, 79, 60, 1, 2, 5, 3, 39, 116, 1, 37, 39, 1, 1, 1, 6, 11, 37, 3, 37, 39, 96, 137, 1, 1, 29, 1, 4, 23, 14, 31, 107, 2, 1, 1, 266, 154, 1, 161, 36, 2, 145, 990, 595, 68, 83, 96, 1, 49, 16, 465, 2, 1, 110, 91, 2, 46, 4, 16, 2, 17, 595, 145, 305, 254, 528, 6, 1, 46, 75, 27, 20, 137, 1, 384, 1, 29, 1, 6, 18, 55, 4, 1, 8, 595, 66, 11, 45, 385, 528, 2, 16, 220, 98, 79, 3, 1, 16, 25, 1, 5, 45, 344, 2, 113, 29, 70, 1, 23, 1, 32, 95, 148, 16, 50, 2, 117, 45, 1, 173, 113, 1, 213, 4, 1, 406, 57, 1, 1, 22, 5, 2, 502, 22, 19, 125, 34, 36, 406, 10, 223, 1, 96, 1, 5, 78, 1, 32, 1, 448, 37, 2, 465, 20, 465, 3, 300, 22, 154, 51, 56, 2, 528, 1, 6, 595, 443, 29, 16, 7, 1, 528, 1, 1, 93, 45, 1, 1, 1, 1, 741, 1, 101, 69, 2, 1, 1, 101, 37, 1, 1, 14, 6, 243, 528, 467, 4, 40, 1, 33, 22, 6, 63, 267, 143, 35, 1, 96, 1, 3, 1, 121, 92, 3, 32, 101, 136, 127, 68, 1, 4, 12, 406, 211, 125, 1, 14, 36, 11, 98, 50, 71, 52, 315, 4, 46, 5, 2, 741, 1, 68, 2, 1, 1, 179, 14, 595, 21, 32, 12, 406, 330, 29, 120, 17, 28, 1, 528, 86, 19, 1, 1, 37, 158, 820, 7, 37, 2, 1, 27, 1, 125, 85, 246, 1, 2, 22, 29, 99, 80, 1, 1, 143, 3, 528, 1, 16, 465, 3, 318, 56, 22, 292, 406, 45, 37, 730, 37, 1, 4, 94, 1, 1, 3, 67, 6, 49, 80, 29, 487, 46, 41, 92, 46, 36, 139, 3, 1, 195, 1, 1, 127, 16, 15, 16, 137, 113, 870, 406, 4, 528, 37, 820, 1, 1, 30, 1, 33, 27, 267, 2, 85, 1, 666, 4, 3, 1, 1, 1, 38, 84, 11, 170, 172, 7, 113, 22, 112, 33, 487, 9, 6, 426, 1, 305, 23, 78, 1, 741, 1, 154, 60, 16, 1, 33, 406, 1, 255, 39, 5, 7, 50, 108, 528, 2, 6, 36, 47, 37, 1, 4, 29, 16, 29, 58, 55, 22, 1, 3, 94, 2, 12, 2, 1, 7, 16, 12, 115, 6, 1, 11, 3, 1, 8, 1, 16, 412, 83, 197, 1, 1, 1, 10, 2, 73, 236, 111, 2, 144, 15, 4, 1, 3, 52, 2, 32, 1, 71, 4, 466, 1, 417, 54, 37, 1, 218, 34, 28, 16, 11, 1, 91, 666, 1, 264, 269, 1, 18, 16, 1, 1, 741, 15, 666, 22, 33, 3, 20, 7, 122, 4, 3, 1, 21, 46, 11, 1, 117, 28, 10, 1, 1, 16, 159, 5, 21, 34, 1, 1, 595, 49, 386, 22, 7, 28, 2, 304, 15, 29, 2, 9, 1, 2, 46, 4, 1, 7, 666, 30, 3, 342, 2, 67, 16, 21, 666, 29, 9, 7, 26, 11, 37, 16, 3, 36, 1, 1, 9, 238, 150, 36, 1, 15, 406, 528, 318, 22, 1, 22, 2, 190, 92, 1, 51, 1, 666, 1, 741, 125, 2, 1, 154, 1, 158, 59, 2, 1, 9, 1, 42, 666, 57, 54, 14, 62, 11, 8, 406, 43, 50, 73, 23, 1, 741, 293, 1, 1, 1, 7, 65, 2, 172, 5, 62, 1, 18, 22, 1, 9, 9, 147, 475, 125, 406, 23, 31, 465, 14, 1, 1, 15, 45, 1, 244, 6, 6, 1, 45, 1, 7, 16, 253, 45, 100, 37, 1, 77, 16, 1, 16, 76, 112, 1, 1, 29, 23, 1, 57, 15, 278, 595, 1, 2, 15, 154, 1, 1, 3, 4, 22, 17, 27, 1, 120, 1, 55, 4, 8, 2, 43, 2, 37, 1, 16, 30, 1, 15, 1, 44, 112, 666, 1, 15, 666, 2, 7, 7, 1, 45, 990, 10, 7, 1, 465, 231, 1, 55, 7, 34, 7, 1, 7, 1, 2, 31, 10, 63, 1, 465, 29, 87, 16, 2, 2, 17, 32, 1, 1, 6, 1, 84, 406, 37, 290, 4, 37, 145, 414, 465, 2, 1, 1, 27, 3, 10, 277, 4, 11, 1, 1, 106, 4, 1, 990, 7, 239, 94, 16, 352, 66, 1, 37, 1, 4, 22, 4, 11, 94, 3, 820, 8, 3, 1, 1, 22, 2, 6, 1, 47, 69, 11, 22, 595, 21, 16, 22, 4, 39, 6, 61, 1, 528, 23, 391, 22, 1, 1, 3, 15, 1, 37, 8, 1, 820, 5, 7, 406, 465, 1, 195, 2, 233, 1, 2, 437, 33, 16, 528, 292, 8, 36, 1, 5, 191, 510, 9, 1, 44, 2, 22, 666, 46, 67, 8, 4, 1, 37, 1, 23, 465, 27, 29, 194, 595, 29, 5, 11, 144, 8, 23, 92, 96, 1, 528, 2, 1, 1, 741, 1, 1, 2, 16, 136, 16, 2, 406, 1, 83, 369, 4, 1, 1, 1, 1, 12, 469, 83, 11, 1, 83, 56, 406, 1, 14, 292, 11, 1, 406, 1, 25, 7, 35, 22, 2, 3, 10, 1, 990, 22, 1, 465, 54, 120, 82, 1, 101, 25, 29, 2, 22, 1, 1, 330, 12]\n"
     ]
    }
   ],
   "source": [
    "iteration_list = []\n",
    "success_list = []\n",
    "num_iteration = 1000\n",
    "for i in range(num_iteration):\n",
    "    if i%(num_iteration//10)==0:\n",
    "        print(\"Iteration number: \",i)\n",
    "    iteration,success = run_experiment()\n",
    "    iteration_list.append(iteration)\n",
    "    success_list.append(success)\n",
    "print(iteration_list)"
   ]
  },
  {
   "cell_type": "markdown",
   "metadata": {},
   "source": [
    "## Histogram plot for the number of iterations it took to find the result"
   ]
  },
  {
   "cell_type": "code",
   "execution_count": 10,
   "metadata": {},
   "outputs": [
    {
     "data": {
      "image/png": "[encoded data removed]",
      "text/plain": [
       "<Figure size 432x288 with 1 Axes>"
      ]
     },
     "metadata": {
      "needs_background": "light"
     },
     "output_type": "display_data"
    }
   ],
   "source": [
    "plt.hist(iteration_list,bins=num_iteration//10)\n",
    "plt.show()"
   ]
  },
  {
   "cell_type": "markdown",
   "metadata": {},
   "source": [
    "## Calculate Stats on how many times the experiment failed to find the win case"
   ]
  },
  {
   "cell_type": "code",
   "execution_count": 11,
   "metadata": {},
   "outputs": [
    {
     "name": "stdout",
     "output_type": "stream",
     "text": [
      "The experiment failed 81 out of 1000 Success Rate: 91.90%\n"
     ]
    }
   ],
   "source": [
    "failed_exps =  num_iteration - sum(success_list)\n",
    "print(f\"The experiment failed {failed_exps} out of {num_iteration} Success Rate: {(1-(failed_exps/num_iteration))*100:.2f}%\")"
   ]
  },
  {
   "cell_type": "code",
   "execution_count": 12,
   "metadata": {},
   "outputs": [
    {
     "data": {
      "text/plain": [
       "990"
      ]
     },
     "execution_count": 12,
     "metadata": {},
     "output_type": "execute_result"
    }
   ],
   "source": [
    "# What was the maximum number of iterations required to find the correct winner?\n",
    "max(iteration_list)"
   ]
  },
  {
   "cell_type": "code",
   "execution_count": null,
   "metadata": {},
   "outputs": [],
   "source": []
  }
 ],
 "metadata": {
  "kernelspec": {
   "display_name": "Python 3",
   "language": "python",
   "name": "python3"
  },
  "language_info": {
   "codemirror_mode": {
    "name": "ipython",
    "version": 3
   },
   "file_extension": ".py",
   "mimetype": "text/x-python",
   "name": "python",
   "nbconvert_exporter": "python",
   "pygments_lexer": "ipython3",
   "version": "3.7.5"
  }
 },
 "nbformat": 4,
 "nbformat_minor": 2
}
